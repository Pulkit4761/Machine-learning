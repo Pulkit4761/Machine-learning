{
 "cells": [
  {
   "cell_type": "code",
   "execution_count": 1,
   "id": "c7cc151d",
   "metadata": {},
   "outputs": [],
   "source": [
    "import numpy as np\n",
    "import math \n",
    "\n",
    "L, d_k, d_v = 4,8,8\n",
    "q = np.random.rand(L, d_k)\n",
    "k = np.random.rand(L, d_k)\n",
    "v = np.random.rand(L, d_v)"
   ]
  },
  {
   "cell_type": "code",
   "execution_count": 2,
   "id": "c6f4c8d6",
   "metadata": {},
   "outputs": [
    {
     "name": "stdout",
     "output_type": "stream",
     "text": [
      "Query (q): [[0.03804345 0.14047541 0.3922199  0.11841733 0.77818584 0.37189161\n",
      "  0.8484695  0.57376775]\n",
      " [0.45076212 0.43299163 0.35443178 0.36221555 0.8420644  0.97925817\n",
      "  0.32987794 0.32044776]\n",
      " [0.92737552 0.83521621 0.79393371 0.04742947 0.72977081 0.73897854\n",
      "  0.25233071 0.29189709]\n",
      " [0.39761686 0.10225246 0.56884807 0.82885827 0.33576961 0.87406877\n",
      "  0.86853091 0.78706834]]\n",
      "Key (k): [[0.22632587 0.55259542 0.85119661 0.35770502 0.6182692  0.60176701\n",
      "  0.16856799 0.8310279 ]\n",
      " [0.51847161 0.3884267  0.14162048 0.99902546 0.61664483 0.8844136\n",
      "  0.38515788 0.60073248]\n",
      " [0.57231284 0.29113161 0.54804465 0.02444004 0.79062592 0.39249552\n",
      "  0.52194399 0.14666225]\n",
      " [0.779745   0.16220611 0.12817453 0.70254974 0.25724824 0.85201203\n",
      "  0.97423032 0.81656838]]\n",
      "Value (v): [[0.08902852 0.38781269 0.49968116 0.74165462 0.13852491 0.60615516\n",
      "  0.01318295 0.56203986]\n",
      " [0.79318981 0.79775557 0.54488489 0.62042129 0.99231183 0.89416733\n",
      "  0.19494001 0.27932318]\n",
      " [0.34553113 0.39220165 0.61692035 0.50643838 0.12205    0.84927036\n",
      "  0.85875075 0.1574623 ]\n",
      " [0.01638684 0.04262268 0.32271831 0.64907688 0.02931246 0.99187343\n",
      "  0.81517565 0.10119041]]\n"
     ]
    }
   ],
   "source": [
    "print(\"Query (q):\", q)\n",
    "print(\"Key (k):\", k)\n",
    "print(\"Value (v):\", v)"
   ]
  },
  {
   "cell_type": "markdown",
   "id": "d8bd1271",
   "metadata": {},
   "source": [
    "Self Attention\n",
    "\n",
    "                        self attention = softmax((Q.K^t / root d_k) + M) V"
   ]
  },
  {
   "cell_type": "code",
   "execution_count": 3,
   "id": "21a6dc48",
   "metadata": {},
   "outputs": [
    {
     "data": {
      "text/plain": [
       "array([[1.78721325, 1.72838306, 1.56874104, 1.9980852 ],\n",
       "       [2.20436141, 2.51883259, 1.85641929, 2.35562089],\n",
       "       [2.54518239, 2.34116996, 2.25171133, 2.29521026],\n",
       "       [2.46124756, 2.94190963, 1.76663557, 3.30178924]])"
      ]
     },
     "execution_count": 3,
     "metadata": {},
     "output_type": "execute_result"
    }
   ],
   "source": [
    "np.matmul(q, k.T)"
   ]
  },
  {
   "cell_type": "code",
   "execution_count": 4,
   "id": "eebdbc9b",
   "metadata": {},
   "outputs": [
    {
     "data": {
      "text/plain": [
       "(0.08209684324885873, 0.0750886873680431, 0.20091428192891453)"
      ]
     },
     "execution_count": 4,
     "metadata": {},
     "output_type": "execute_result"
    }
   ],
   "source": [
    "# If we didn't do scaling\n",
    "q.var(),k.var(),np.matmul(q, k.T).var()"
   ]
  },
  {
   "cell_type": "code",
   "execution_count": 5,
   "id": "f16fcd02",
   "metadata": {},
   "outputs": [
    {
     "data": {
      "text/plain": [
       "(0.08209684324885873, 0.0750886873680431, 0.025114285241114313)"
      ]
     },
     "execution_count": 5,
     "metadata": {},
     "output_type": "execute_result"
    }
   ],
   "source": [
    "# With scaling\n",
    "scaled = np.matmul(q, k.T) / math.sqrt(d_k)      # Dividing by root d_k for scaling\n",
    "q.var(),k.var(),scaled.var()"
   ]
  },
  {
   "cell_type": "code",
   "execution_count": 6,
   "id": "e74aebad",
   "metadata": {},
   "outputs": [
    {
     "data": {
      "text/plain": [
       "array([[0.6318753 , 0.61107569, 0.55463371, 0.7064298 ],\n",
       "       [0.77935945, 0.8905418 , 0.65634333, 0.83283775],\n",
       "       [0.89985786, 0.82772858, 0.79610018, 0.81147937],\n",
       "       [0.87018242, 1.04012213, 0.62459999, 1.16735878]])"
      ]
     },
     "execution_count": 6,
     "metadata": {},
     "output_type": "execute_result"
    }
   ],
   "source": [
    "scaled"
   ]
  },
  {
   "cell_type": "markdown",
   "id": "039747e9",
   "metadata": {},
   "source": [
    "Masking -\n",
    "1) This is to ensure words don't get context from words generated in the future\n",
    "2) Not required in encoders but required in decoders"
   ]
  },
  {
   "cell_type": "code",
   "execution_count": 7,
   "id": "079cfcbf",
   "metadata": {},
   "outputs": [
    {
     "data": {
      "text/plain": [
       "array([[1., 0., 0., 0.],\n",
       "       [1., 1., 0., 0.],\n",
       "       [1., 1., 1., 0.],\n",
       "       [1., 1., 1., 1.]])"
      ]
     },
     "execution_count": 7,
     "metadata": {},
     "output_type": "execute_result"
    }
   ],
   "source": [
    "mask = np.tril(np.ones((L, L)))  # Lower triangular matrix\n",
    "mask"
   ]
  },
  {
   "cell_type": "code",
   "execution_count": 8,
   "id": "b4619858",
   "metadata": {},
   "outputs": [],
   "source": [
    "mask[mask == 0] = -np.inf\n",
    "mask[mask == 1] = 0"
   ]
  },
  {
   "cell_type": "code",
   "execution_count": 9,
   "id": "2a31f4db",
   "metadata": {},
   "outputs": [
    {
     "data": {
      "text/plain": [
       "array([[  0., -inf, -inf, -inf],\n",
       "       [  0.,   0., -inf, -inf],\n",
       "       [  0.,   0.,   0., -inf],\n",
       "       [  0.,   0.,   0.,   0.]])"
      ]
     },
     "execution_count": 9,
     "metadata": {},
     "output_type": "execute_result"
    }
   ],
   "source": [
    "mask"
   ]
  },
  {
   "cell_type": "code",
   "execution_count": 10,
   "id": "9c53ae48",
   "metadata": {},
   "outputs": [
    {
     "data": {
      "text/plain": [
       "array([[0.6318753 ,       -inf,       -inf,       -inf],\n",
       "       [0.77935945, 0.8905418 ,       -inf,       -inf],\n",
       "       [0.89985786, 0.82772858, 0.79610018,       -inf],\n",
       "       [0.87018242, 1.04012213, 0.62459999, 1.16735878]])"
      ]
     },
     "execution_count": 10,
     "metadata": {},
     "output_type": "execute_result"
    }
   ],
   "source": [
    "scaled + mask"
   ]
  },
  {
   "cell_type": "markdown",
   "id": "80dcdaf2",
   "metadata": {},
   "source": [
    "Softmax"
   ]
  },
  {
   "cell_type": "code",
   "execution_count": 11,
   "id": "0e6fc0dd",
   "metadata": {},
   "outputs": [],
   "source": [
    "def softmax(x):\n",
    "    return (np.exp(x).T / np.sum(np.exp(x), axis=1)).T"
   ]
  },
  {
   "cell_type": "code",
   "execution_count": 12,
   "id": "a74b720f",
   "metadata": {},
   "outputs": [],
   "source": [
    "attention = softmax(scaled + mask)"
   ]
  },
  {
   "cell_type": "code",
   "execution_count": 13,
   "id": "94a567f4",
   "metadata": {},
   "outputs": [
    {
     "data": {
      "text/plain": [
       "array([[1.        , 0.        , 0.        , 0.        ],\n",
       "       [0.47223301, 0.52776699, 0.        , 0.        ],\n",
       "       [0.35312551, 0.32855172, 0.31832277, 0.        ],\n",
       "       [0.23182843, 0.27477079, 0.18134751, 0.31205327]])"
      ]
     },
     "execution_count": 13,
     "metadata": {},
     "output_type": "execute_result"
    }
   ],
   "source": [
    "attention"
   ]
  },
  {
   "cell_type": "code",
   "execution_count": 14,
   "id": "a42d2f9a",
   "metadata": {},
   "outputs": [
    {
     "data": {
      "text/plain": [
       "array([[0.08902852, 0.38781269, 0.49968116, 0.74165462, 0.13852491,\n",
       "        0.60615516, 0.01318295, 0.56203986],\n",
       "       [0.46066161, 0.60416701, 0.5235382 , 0.67767167, 0.58912546,\n",
       "        0.75815847, 0.10910833, 0.41283133],\n",
       "       [0.40203254, 0.52389723, 0.55185283, 0.62694851, 0.41379373,\n",
       "        0.77817116, 0.34206303, 0.34036656],\n",
       "       [0.30635951, 0.39353128, 0.47814102, 0.63679817, 0.33605283,\n",
       "        0.84974548, 0.46673054, 0.26717886]])"
      ]
     },
     "execution_count": 14,
     "metadata": {},
     "output_type": "execute_result"
    }
   ],
   "source": [
    "new_v = np.matmul(attention, v)\n",
    "new_v"
   ]
  },
  {
   "cell_type": "code",
   "execution_count": null,
   "id": "162d8968",
   "metadata": {},
   "outputs": [
    {
     "data": {
      "text/plain": [
       "array([[0.08902852, 0.38781269, 0.49968116, 0.74165462, 0.13852491,\n",
       "        0.60615516, 0.01318295, 0.56203986],\n",
       "       [0.79318981, 0.79775557, 0.54488489, 0.62042129, 0.99231183,\n",
       "        0.89416733, 0.19494001, 0.27932318],\n",
       "       [0.34553113, 0.39220165, 0.61692035, 0.50643838, 0.12205   ,\n",
       "        0.84927036, 0.85875075, 0.1574623 ],\n",
       "       [0.01638684, 0.04262268, 0.32271831, 0.64907688, 0.02931246,\n",
       "        0.99187343, 0.81517565, 0.10119041]])"
      ]
     },
     "execution_count": 15,
     "metadata": {},
     "output_type": "execute_result"
    }
   ],
   "source": [
    "v       # values get distinct compared to new_vas the attention weights are applied"
   ]
  },
  {
   "cell_type": "code",
   "execution_count": null,
   "id": "442eeb29",
   "metadata": {},
   "outputs": [],
   "source": []
  }
 ],
 "metadata": {
  "kernelspec": {
   "display_name": "base",
   "language": "python",
   "name": "python3"
  },
  "language_info": {
   "codemirror_mode": {
    "name": "ipython",
    "version": 3
   },
   "file_extension": ".py",
   "mimetype": "text/x-python",
   "name": "python",
   "nbconvert_exporter": "python",
   "pygments_lexer": "ipython3",
   "version": "3.11.5"
  }
 },
 "nbformat": 4,
 "nbformat_minor": 5
}
