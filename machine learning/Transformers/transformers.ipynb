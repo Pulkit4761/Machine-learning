{
 "cells": [
  {
   "cell_type": "code",
   "execution_count": 7,
   "id": "c7cc151d",
   "metadata": {},
   "outputs": [],
   "source": [
    "import numpy as np\n",
    "import math \n",
    "\n",
    "L, d_k, d_v = 4,8,8\n",
    "q = np.random.rand(L, d_k)\n",
    "k = np.random.rand(L, d_k)\n",
    "v = np.random.rand(L, d_v)"
   ]
  },
  {
   "cell_type": "code",
   "execution_count": 8,
   "id": "c6f4c8d6",
   "metadata": {},
   "outputs": [
    {
     "name": "stdout",
     "output_type": "stream",
     "text": [
      "Query (q): [[0.95615214 0.2516468  0.25471824 0.67409922 0.16604337 0.52229191\n",
      "  0.00202645 0.29708519]\n",
      " [0.0257909  0.70716937 0.38376479 0.93183365 0.09950033 0.50568616\n",
      "  0.39259569 0.33317069]\n",
      " [0.9649239  0.22719879 0.77705208 0.71782392 0.93203625 0.50669318\n",
      "  0.84679911 0.10830455]\n",
      " [0.32609188 0.59047332 0.87358978 0.24973147 0.34850938 0.19769565\n",
      "  0.81442511 0.4130676 ]]\n",
      "Key (k): [[0.16426018 0.79176323 0.1876594  0.01290285 0.15181112 0.69171364\n",
      "  0.91690193 0.29677066]\n",
      " [0.07050061 0.41016288 0.7878722  0.64135083 0.63667069 0.77341149\n",
      "  0.92101247 0.53107275]\n",
      " [0.90576254 0.54968273 0.77062321 0.12486301 0.18896326 0.60341883\n",
      "  0.40832629 0.43391489]\n",
      " [0.08566413 0.50429736 0.32512693 0.21547856 0.70325699 0.89528526\n",
      "  0.13130027 0.37664254]]\n",
      "Value (v): [[0.78203122 0.47245608 0.89768033 0.47811463 0.30296051 0.01657495\n",
      "  0.10470121 0.37804387]\n",
      " [0.64491027 0.95649913 0.88476863 0.05037058 0.525048   0.3222886\n",
      "  0.93384124 0.46115092]\n",
      " [0.59487447 0.66990116 0.97107586 0.5136689  0.71116314 0.36740771\n",
      "  0.38099724 0.32994631]\n",
      " [0.33659434 0.83831848 0.42285691 0.04766325 0.62050346 0.30151175\n",
      "  0.21951637 0.4786557 ]]\n"
     ]
    }
   ],
   "source": [
    "print(\"Query (q):\", q)\n",
    "print(\"Key (k):\", k)\n",
    "print(\"Value (v):\", v)"
   ]
  },
  {
   "cell_type": "markdown",
   "id": "d8bd1271",
   "metadata": {},
   "source": [
    "Self Attention\n",
    "\n",
    "                        self attention = softmax((Q.K^t / root d_k) + M) V"
   ]
  },
  {
   "cell_type": "code",
   "execution_count": 9,
   "id": "21a6dc48",
   "metadata": {},
   "outputs": [
    {
     "data": {
      "text/plain": [
       "array([[0.88930837, 1.47294674, 1.76110854, 1.13341485],\n",
       "       [1.47192981, 2.18483864, 1.45298617, 1.38413729],\n",
       "       [1.79402272, 3.05652356, 2.56195731, 1.86562432],\n",
       "       [1.74722923, 2.45787293, 2.0212617 , 1.34814658]])"
      ]
     },
     "execution_count": 9,
     "metadata": {},
     "output_type": "execute_result"
    }
   ],
   "source": [
    "np.matmul(q, k.T)"
   ]
  },
  {
   "cell_type": "code",
   "execution_count": 10,
   "id": "eebdbc9b",
   "metadata": {},
   "outputs": [
    {
     "data": {
      "text/plain": [
       "(0.08606963863565467, 0.0808268726833457, 0.29883294430311363)"
      ]
     },
     "execution_count": 10,
     "metadata": {},
     "output_type": "execute_result"
    }
   ],
   "source": [
    "# If we didn't do scaling\n",
    "q.var(),k.var(),np.matmul(q, k.T).var()"
   ]
  },
  {
   "cell_type": "code",
   "execution_count": 11,
   "id": "f16fcd02",
   "metadata": {},
   "outputs": [
    {
     "data": {
      "text/plain": [
       "(0.08606963863565467, 0.0808268726833457, 0.03735411803788921)"
      ]
     },
     "execution_count": 11,
     "metadata": {},
     "output_type": "execute_result"
    }
   ],
   "source": [
    "# With scaling\n",
    "scaled = np.matmul(q, k.T) / math.sqrt(d_k)      # Dividing by root d_k for scaling\n",
    "q.var(),k.var(),scaled.var()"
   ]
  },
  {
   "cell_type": "code",
   "execution_count": 12,
   "id": "e74aebad",
   "metadata": {},
   "outputs": [
    {
     "data": {
      "text/plain": [
       "array([[0.31441799, 0.52076531, 0.6226459 , 0.40072266],\n",
       "       [0.52040578, 0.77245711, 0.51370819, 0.48936643],\n",
       "       [0.63428282, 1.08064427, 0.90578869, 0.6595978 ],\n",
       "       [0.61773882, 0.86898931, 0.71462393, 0.47664179]])"
      ]
     },
     "execution_count": 12,
     "metadata": {},
     "output_type": "execute_result"
    }
   ],
   "source": [
    "scaled"
   ]
  },
  {
   "cell_type": "markdown",
   "id": "039747e9",
   "metadata": {},
   "source": [
    "Masking -\n",
    "1) This is to ensure words don't get context from words generated in the future\n",
    "2) Not required in encoders but required in decoders"
   ]
  },
  {
   "cell_type": "code",
   "execution_count": 1,
   "id": "079cfcbf",
   "metadata": {},
   "outputs": [
    {
     "ename": "NameError",
     "evalue": "name 'np' is not defined",
     "output_type": "error",
     "traceback": [
      "\u001b[1;31m---------------------------------------------------------------------------\u001b[0m",
      "\u001b[1;31mNameError\u001b[0m                                 Traceback (most recent call last)",
      "Cell \u001b[1;32mIn[1], line 1\u001b[0m\n\u001b[1;32m----> 1\u001b[0m mask \u001b[38;5;241m=\u001b[39m np\u001b[38;5;241m.\u001b[39mtril(np\u001b[38;5;241m.\u001b[39mones((L, L)))  \u001b[38;5;66;03m# Lower triangular matrix\u001b[39;00m\n\u001b[0;32m      2\u001b[0m mask\n",
      "\u001b[1;31mNameError\u001b[0m: name 'np' is not defined"
     ]
    }
   ],
   "source": [
    "mask = np.tril(np.ones((L, L)))  # Lower triangular matrix\n",
    "mask"
   ]
  },
  {
   "cell_type": "code",
   "execution_count": null,
   "id": "b4619858",
   "metadata": {},
   "outputs": [],
   "source": []
  }
 ],
 "metadata": {
  "kernelspec": {
   "display_name": "base",
   "language": "python",
   "name": "python3"
  },
  "language_info": {
   "codemirror_mode": {
    "name": "ipython",
    "version": 3
   },
   "file_extension": ".py",
   "mimetype": "text/x-python",
   "name": "python",
   "nbconvert_exporter": "python",
   "pygments_lexer": "ipython3",
   "version": "3.11.5"
  }
 },
 "nbformat": 4,
 "nbformat_minor": 5
}
