{
 "cells": [
  {
   "cell_type": "code",
   "execution_count": 1,
   "id": "9278a42d",
   "metadata": {},
   "outputs": [
    {
     "name": "stdout",
     "output_type": "stream",
     "text": [
      "Normalised Data :  [-1.34164079 -0.4472136   0.4472136   1.34164079]\n"
     ]
    }
   ],
   "source": [
    "# Statistical Concpets -- Normalization (Mean = 0, std deviation = 1)\n",
    "import numpy as np\n",
    "data = np.array([1,2,3,4])\n",
    "\n",
    "# Calculating mean and deviation\n",
    "mean = np.mean(data)\n",
    "std_dev = np.std(data)\n",
    "\n",
    "# Normalising the data\n",
    "normalised_data = (data - mean) / std_dev\n",
    "print(\"Normalised Data : \",normalised_data)"
   ]
  },
  {
   "cell_type": "code",
   "execution_count": 2,
   "id": "be1b7312",
   "metadata": {},
   "outputs": [
    {
     "name": "stdout",
     "output_type": "stream",
     "text": [
      "Mean :  5.5\n",
      "Median :  5.5\n",
      "Standard Deviation :  2.8722813232690143\n",
      "Variance :  8.25\n"
     ]
    }
   ],
   "source": [
    "data = [1,2,3,4,5,6,7,8,9,10]\n",
    "\n",
    "# Mean\n",
    "mean = np.mean(data)\n",
    "print(\"Mean : \",mean)\n",
    "\n",
    "# Median\n",
    "median = np.median(data)\n",
    "print(\"Median : \",median)\n",
    "\n",
    "# Standard Deviation\n",
    "std_dev = np.std(data)\n",
    "print(\"Standard Deviation : \",std_dev)\n",
    "\n",
    "# Variance\n",
    "variance = np.var(data)\n",
    "print(\"Variance : \",variance)"
   ]
  },
  {
   "cell_type": "code",
   "execution_count": null,
   "id": "14f1c969",
   "metadata": {},
   "outputs": [
    {
     "data": {
      "text/plain": [
       "array([ 6,  7,  8,  9, 10])"
      ]
     },
     "execution_count": 8,
     "metadata": {},
     "output_type": "execute_result"
    }
   ],
   "source": [
    "# Logical Operations\n",
    "data = np.array([1,2,3,4,5,6,7,8,9,10])\n",
    "data[(data > 5) & (data > 8)]"
   ]
  },
  {
   "cell_type": "code",
   "execution_count": null,
   "id": "94e333a5",
   "metadata": {},
   "outputs": [],
   "source": []
  }
 ],
 "metadata": {
  "kernelspec": {
   "display_name": "Python 3",
   "language": "python",
   "name": "python3"
  },
  "language_info": {
   "codemirror_mode": {
    "name": "ipython",
    "version": 3
   },
   "file_extension": ".py",
   "mimetype": "text/x-python",
   "name": "python",
   "nbconvert_exporter": "python",
   "pygments_lexer": "ipython3",
   "version": "3.11.5"
  }
 },
 "nbformat": 4,
 "nbformat_minor": 5
}
