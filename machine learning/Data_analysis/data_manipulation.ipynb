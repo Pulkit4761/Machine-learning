{
 "cells": [
  {
   "cell_type": "markdown",
   "id": "bd68a424",
   "metadata": {},
   "source": [
    "Data Manipulation with Pandas "
   ]
  }
 ],
 "metadata": {
  "language_info": {
   "name": "python"
  }
 },
 "nbformat": 4,
 "nbformat_minor": 5
}
