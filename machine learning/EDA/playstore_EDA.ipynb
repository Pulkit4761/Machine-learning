{
 "cells": [
  {
   "cell_type": "markdown",
   "id": "6f90c04a",
   "metadata": {},
   "source": [
    "Google Playstore dataset"
   ]
  }
 ],
 "metadata": {
  "language_info": {
   "name": "python"
  }
 },
 "nbformat": 4,
 "nbformat_minor": 5
}
